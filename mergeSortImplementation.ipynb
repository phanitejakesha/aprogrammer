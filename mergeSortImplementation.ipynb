{
 "cells": [
  {
   "cell_type": "code",
   "execution_count": 24,
   "metadata": {
    "collapsed": true
   },
   "outputs": [],
   "source": [
    "def merge(arr, l, m, r): \n",
    "    n1 = m - l + 1\n",
    "    n2 = r- m \n",
    "    n1 = int(n1)\n",
    "    n2 = int(n2)\n",
    "    # create temp arrays \n",
    "    L = [0] * n1 \n",
    "    R = [0] * n2 \n",
    "  \n",
    "    # Copy data to temp arrays L[] and R[] \n",
    "    for i in range(0 , n1): \n",
    "        L[i] = arr[l + i] \n",
    "  \n",
    "    for j in range(0 , n2): \n",
    "        R[j] = arr[m + 1 + j] \n",
    "  \n",
    "    # Merge the temp arrays back into arr[l..r] \n",
    "    i = 0     # Initial index of first subarray \n",
    "    j = 0     # Initial index of second subarray \n",
    "    k = l     # Initial index of merged subarray \n",
    "    print(L,R)\n",
    "    while i < n1 and j < n2 : \n",
    "        if L[i] <= R[j]: \n",
    "            arr[k] = L[i] \n",
    "            i += 1\n",
    "        else: \n",
    "            arr[k] = R[j] \n",
    "            j += 1\n",
    "        k += 1\n",
    "  \n",
    "    # Copy the remaining elements of L[], if there \n",
    "    # are any \n",
    "    while i < n1: \n",
    "        arr[k] = L[i] \n",
    "        i += 1\n",
    "        k += 1\n",
    "  \n",
    "    # Copy the remaining elements of R[], if there \n",
    "    # are any \n",
    "    while j < n2: \n",
    "        arr[k] = R[j] \n",
    "        j += 1\n",
    "        k += 1\n",
    "  \n",
    "# sub-array of arr to be sorted \n",
    "def mergeSort(arr,l,r): \n",
    "    if l < r: \n",
    "  \n",
    "        # Same as (l+r)/2, but avoids overflow for \n",
    "        # large l and h \n",
    "        m = (l+(r-1))//2\n",
    "  \n",
    "        # Sort first and second halves \n",
    "        print(arr,l,m)\n",
    "        print(arr,m+1,r)\n",
    "        print(arr,l,m,r)\n",
    "        mergeSort(arr, l, m) \n",
    "        mergeSort(arr, m+1, r) \n",
    "        merge(arr, l, m, r) "
   ]
  },
  {
   "cell_type": "code",
   "execution_count": 25,
   "metadata": {},
   "outputs": [
    {
     "name": "stdout",
     "output_type": "stream",
     "text": [
      "[12, 11, 13, 5, 6, 7] 0 2\n",
      "[12, 11, 13, 5, 6, 7] 3 5\n",
      "[12, 11, 13, 5, 6, 7] 0 2 5\n",
      "[12, 11, 13, 5, 6, 7] 0 0\n",
      "[12, 11, 13, 5, 6, 7] 1 2\n",
      "[12, 11, 13, 5, 6, 7] 0 0 2\n",
      "[12, 11, 13, 5, 6, 7] 1 1\n",
      "[12, 11, 13, 5, 6, 7] 2 2\n",
      "[12, 11, 13, 5, 6, 7] 1 1 2\n",
      "[11] [13]\n",
      "[12] [11, 13]\n",
      "[11, 12, 13, 5, 6, 7] 3 3\n",
      "[11, 12, 13, 5, 6, 7] 4 5\n",
      "[11, 12, 13, 5, 6, 7] 3 3 5\n",
      "[11, 12, 13, 5, 6, 7] 4 4\n",
      "[11, 12, 13, 5, 6, 7] 5 5\n",
      "[11, 12, 13, 5, 6, 7] 4 4 5\n",
      "[6] [7]\n",
      "[5] [6, 7]\n",
      "[11, 12, 13] [5, 6, 7]\n",
      "\n",
      "\n",
      "Sorted array is\n",
      "5\n",
      "6\n",
      "7\n",
      "11\n",
      "12\n",
      "13\n"
     ]
    }
   ],
   "source": [
    "# Driver code to test above \n",
    "arr = [12, 11, 13, 5, 6, 7] \n",
    "n = len(arr) \n",
    "mergeSort(arr,0,n-1) \n",
    "print (\"\\n\\nSorted array is\") \n",
    "for i in range(n): \n",
    "    print (\"%d\" %arr[i]), "
   ]
  },
  {
   "cell_type": "code",
   "execution_count": 81,
   "metadata": {
    "collapsed": true
   },
   "outputs": [],
   "source": [
    "def mergesort1(arr,l,r):\n",
    "    if l<r:\n",
    "        print(l,r)\n",
    "        middle = (l+(r-1))//2\n",
    "        print(arr,l,r)\n",
    "        print(arr,middle+1,r)\n",
    "        print(arr,l,middle,r)\n",
    "        mergesort1(arr,l,middle)\n",
    "        mergesort1(arr,middle+1,r)\n",
    "        merge1(arr,l,r,middle)\n",
    "    \n",
    "def merge1(arr,l,r,middle):\n",
    "    #create the empty left and right arrays\n",
    "    n1 = middle-l+1\n",
    "    n2 = r-middle\n",
    "    n1 = int(n1)\n",
    "    n2 = int(n2)\n",
    "    # create temp arrays \n",
    "    arrLeft = [0] * n1 \n",
    "    arrRight = [0] * n2 \n",
    "    for i in range(0,n1):\n",
    "        arrLeft[i]=arr[l+i]\n",
    "    for j in range(0,n2):\n",
    "        arrRight[j]=arr[middle+j+1]\n",
    "    print(arrLeft,arrRight)\n",
    "    #now keep merging the both arrays which you have got by merge alogorihtm\n",
    "    i = 0\n",
    "    j = 0\n",
    "    k = l\n",
    "    print(k)\n",
    "    while i<len(arrLeft) and j < len(arrRight):\n",
    "        print(arrLeft[i],arrRight[j],i,j,k)\n",
    "        if arrLeft[i]<=arrRight[j]:\n",
    "            arr[k]=arrLeft[i]\n",
    "            i+=1\n",
    "            k+=1\n",
    "        else:\n",
    "            arr[k]=arrRight[j]\n",
    "            j+=1\n",
    "            k+=1\n",
    "    #for case where both arrays of different size\n",
    "    while i<n1:\n",
    "        arr[k]=arrLeft[i]\n",
    "        i+=1\n",
    "        k+=1\n",
    "    print(j,n2)\n",
    "    while j<n2:\n",
    "        arr[k]=arrRight[j]\n",
    "        j+=1\n",
    "        k+=1"
   ]
  },
  {
   "cell_type": "code",
   "execution_count": 82,
   "metadata": {
    "scrolled": true
   },
   "outputs": [
    {
     "name": "stdout",
     "output_type": "stream",
     "text": [
      "0 5\n",
      "[12, 11, 13, 5, 6, 7] 0 5\n",
      "[12, 11, 13, 5, 6, 7] 3 5\n",
      "[12, 11, 13, 5, 6, 7] 0 2 5\n",
      "0 2\n",
      "[12, 11, 13, 5, 6, 7] 0 2\n",
      "[12, 11, 13, 5, 6, 7] 1 2\n",
      "[12, 11, 13, 5, 6, 7] 0 0 2\n",
      "1 2\n",
      "[12, 11, 13, 5, 6, 7] 1 2\n",
      "[12, 11, 13, 5, 6, 7] 2 2\n",
      "[12, 11, 13, 5, 6, 7] 1 1 2\n",
      "[11] [13]\n",
      "1\n",
      "11 13 0 0 1\n",
      "0 1\n",
      "[12] [11, 13]\n",
      "0\n",
      "12 11 0 0 0\n",
      "12 13 0 1 1\n",
      "1 2\n",
      "3 5\n",
      "[11, 12, 13, 5, 6, 7] 3 5\n",
      "[11, 12, 13, 5, 6, 7] 4 5\n",
      "[11, 12, 13, 5, 6, 7] 3 3 5\n",
      "4 5\n",
      "[11, 12, 13, 5, 6, 7] 4 5\n",
      "[11, 12, 13, 5, 6, 7] 5 5\n",
      "[11, 12, 13, 5, 6, 7] 4 4 5\n",
      "[6] [7]\n",
      "4\n",
      "6 7 0 0 4\n",
      "0 1\n",
      "[5] [6, 7]\n",
      "3\n",
      "5 6 0 0 3\n",
      "0 2\n",
      "[11, 12, 13] [5, 6, 7]\n",
      "0\n",
      "11 5 0 0 0\n",
      "11 6 0 1 1\n",
      "11 7 0 2 2\n",
      "3 3\n"
     ]
    }
   ],
   "source": [
    "arr = [12, 11, 13, 5, 6, 7] \n",
    "n = len(arr) \n",
    "mergesort1(arr,0,n-1) "
   ]
  },
  {
   "cell_type": "code",
   "execution_count": 83,
   "metadata": {},
   "outputs": [
    {
     "name": "stdout",
     "output_type": "stream",
     "text": [
      "[5, 6, 7, 11, 12, 13]\n"
     ]
    }
   ],
   "source": [
    "print(arr)"
   ]
  },
  {
   "cell_type": "code",
   "execution_count": null,
   "metadata": {
    "collapsed": true
   },
   "outputs": [],
   "source": []
  }
 ],
 "metadata": {
  "kernelspec": {
   "display_name": "Python 3",
   "language": "python",
   "name": "python3"
  },
  "language_info": {
   "codemirror_mode": {
    "name": "ipython",
    "version": 3
   },
   "file_extension": ".py",
   "mimetype": "text/x-python",
   "name": "python",
   "nbconvert_exporter": "python",
   "pygments_lexer": "ipython3",
   "version": "3.6.3"
  }
 },
 "nbformat": 4,
 "nbformat_minor": 2
}
